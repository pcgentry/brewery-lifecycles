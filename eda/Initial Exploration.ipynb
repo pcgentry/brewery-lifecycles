{
 "cells": [
  {
   "cell_type": "markdown",
   "metadata": {},
   "source": [
    "### During this initial exploration, I just want to get an idea of what the data is we are looking at and how it is structured. I got these three csvs from Phil, and want to know the difference between them and whether there is anything useful we might be able to do with it."
   ]
  },
  {
   "cell_type": "code",
   "execution_count": null,
   "metadata": {},
   "outputs": [],
   "source": [
    "import numpy as np\n",
    "import pandas as pd\n",
    "import matplotlib.pyplot as plt\n",
    "import scipy as sp\n",
    "from scipy import stats\n",
    "import seaborn as sns\n",
    "\n",
    "\n",
    "%matplotlib inline\n",
    "plt.style.use('dark_background')"
   ]
  },
  {
   "cell_type": "code",
   "execution_count": null,
   "metadata": {
    "scrolled": true
   },
   "outputs": [],
   "source": [
    "%ls data"
   ]
  },
  {
   "cell_type": "markdown",
   "metadata": {},
   "source": [
    "### On first glance at the data, sales by item appears to have the same number of rows as sales by variant. This makes me think that the way this system is being used, item and variant can be roughly considered equivalent."
   ]
  },
  {
   "cell_type": "code",
   "execution_count": null,
   "metadata": {
    "scrolled": true
   },
   "outputs": [],
   "source": [
    "item_sales = pd.read_csv(\n",
    "    '../data/20200101-20201120-sales-by-item.csv', \n",
    "    delimiter=\",\"\n",
    ")\n",
    "print(item_sales.shape)\n",
    "item_sales.head(1)"
   ]
  },
  {
   "cell_type": "code",
   "execution_count": null,
   "metadata": {},
   "outputs": [],
   "source": [
    "variants = pd.read_csv(\n",
    "    '../data/variants_from_2020-01-01_to_2020-11-20.csv', \n",
    "    delimiter=\",\"\n",
    ")\n",
    "print(variants.shape)\n",
    "variants.head(1)"
   ]
  },
  {
   "cell_type": "markdown",
   "metadata": {},
   "source": [
    "### We also have this more interesting table that includes modifiers. I believe this is just things like discounts, returns, etc. Since it has 1016 rows, I'm expecting to find each item has about four modifiers."
   ]
  },
  {
   "cell_type": "code",
   "execution_count": null,
   "metadata": {},
   "outputs": [],
   "source": [
    "sales_mod_var = pd.read_csv(\n",
    "    '../data/sales_by_modifier_and_variant_from_2020-01-01_to_2020-11-20.csv', \n",
    "    delimiter=\",\"\n",
    ")\n",
    "print(sales_mod_var.shape)\n",
    "sales_mod_var.head(1)"
   ]
  },
  {
   "cell_type": "markdown",
   "metadata": {},
   "source": [
    "### There are 194 rows that are named \"Regular\".. no idea what these are."
   ]
  },
  {
   "cell_type": "code",
   "execution_count": null,
   "metadata": {},
   "outputs": [],
   "source": [
    "print(sales_mod_var[sales_mod_var[\"Name\"]==\"Regular\"].count())\n",
    "sales_mod_var[sales_mod_var[\"Name\"]==\"Regular\"].head(5)"
   ]
  },
  {
   "cell_type": "markdown",
   "metadata": {},
   "source": [
    "### Made me wonder how many actual uniques we have in here..."
   ]
  },
  {
   "cell_type": "code",
   "execution_count": null,
   "metadata": {},
   "outputs": [],
   "source": [
    "unique_names = pd.unique(sales_mod_var[\"Name\"])\n",
    "\n",
    "print(f\"Number of unique Names in brew: {len(unique_names)}\")\n",
    "unique_names"
   ]
  },
  {
   "cell_type": "markdown",
   "metadata": {},
   "source": [
    "### This leads me to want to look a little closer at the difference between items and variants"
   ]
  },
  {
   "cell_type": "code",
   "execution_count": null,
   "metadata": {},
   "outputs": [],
   "source": [
    "item_sales_uniq = pd.unique(item_sales[\"Item Description\"])\n",
    "\n",
    "print(f\"Number of unique Names in brew: {len(item_sales_uniq)}\")\n",
    "item_sales_uniq"
   ]
  },
  {
   "cell_type": "code",
   "execution_count": null,
   "metadata": {},
   "outputs": [],
   "source": [
    "variant_sales_uniq = pd.unique(variants[\"Product Name\"])\n",
    "\n",
    "print(f\"Number of unique Variants: {len(variant_sales_uniq)}\")\n",
    "variant_sales_uniq"
   ]
  },
  {
   "cell_type": "markdown",
   "metadata": {},
   "source": [
    "### So at this point we know that variants and items are basically the same things with different data attached, but the question now is what are those things in the variants and items data set that are not in the other two.\n",
    "\n",
    "#### They have different column names, so I can't stright up subtract the two data sets. For the sake of time, I'll just use an iterative approach."
   ]
  },
  {
   "cell_type": "code",
   "execution_count": null,
   "metadata": {},
   "outputs": [],
   "source": [
    "missing_items = []\n",
    "included_items = []\n",
    "for item in unique_names:\n",
    "    if not item in variant_sales_uniq:\n",
    "        missing_items.append(item)\n",
    "    else:\n",
    "        included_items.append(item)\n",
    "        \n",
    "print(f\"missing items: {len(missing_items)}\")\n",
    "print(f\"included items: {len(included_items)}\")"
   ]
  },
  {
   "cell_type": "markdown",
   "metadata": {},
   "source": [
    "### It looks like all the missing items are modifiers on other items. "
   ]
  },
  {
   "cell_type": "code",
   "execution_count": null,
   "metadata": {
    "scrolled": true
   },
   "outputs": [],
   "source": [
    "print(missing_items)"
   ]
  },
  {
   "cell_type": "markdown",
   "metadata": {},
   "source": [
    "### Our actual items for sale, minus modifiers are these:"
   ]
  },
  {
   "cell_type": "code",
   "execution_count": null,
   "metadata": {},
   "outputs": [],
   "source": [
    "print(included_items)"
   ]
  },
  {
   "cell_type": "markdown",
   "metadata": {},
   "source": [
    "### So we should categorize these a bit and take a look at sales by category."
   ]
  },
  {
   "cell_type": "code",
   "execution_count": null,
   "metadata": {
    "scrolled": true
   },
   "outputs": [],
   "source": [
    "item_sales.head(1)"
   ]
  },
  {
   "cell_type": "code",
   "execution_count": null,
   "metadata": {},
   "outputs": [],
   "source": [
    "item_sales.groupby(\"Department\").sum().sort_values(by=\"Sales Amount\", ascending=False)"
   ]
  },
  {
   "cell_type": "markdown",
   "metadata": {},
   "source": [
    "## Let's talk beer.\n"
   ]
  },
  {
   "cell_type": "code",
   "execution_count": null,
   "metadata": {},
   "outputs": [],
   "source": [
    "sales_beer = item_sales[item_sales[\"Department\"]==\"beers\"]\n",
    "sales_beer.shape"
   ]
  },
  {
   "cell_type": "code",
   "execution_count": null,
   "metadata": {},
   "outputs": [],
   "source": [
    "sales_beer.sort_values(by=\"Gross Profit\", ascending=False)"
   ]
  },
  {
   "cell_type": "code",
   "execution_count": null,
   "metadata": {},
   "outputs": [],
   "source": []
  }
 ],
 "metadata": {
  "kernelspec": {
   "display_name": "Python 3",
   "language": "python",
   "name": "python3"
  },
  "language_info": {
   "codemirror_mode": {
    "name": "ipython",
    "version": 3
   },
   "file_extension": ".py",
   "mimetype": "text/x-python",
   "name": "python",
   "nbconvert_exporter": "python",
   "pygments_lexer": "ipython3",
   "version": "3.8.5"
  }
 },
 "nbformat": 4,
 "nbformat_minor": 4
}
