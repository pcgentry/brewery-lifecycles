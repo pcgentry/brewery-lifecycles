{
 "cells": [
  {
   "cell_type": "markdown",
   "metadata": {},
   "source": [
    "### The purpose of this file is to remove identifying information and replace it with Generated Data. Unique data should remain unique, but be anonymized and cleaned to just the data that is necessary for this project."
   ]
  },
  {
   "cell_type": "code",
   "execution_count": null,
   "metadata": {},
   "outputs": [],
   "source": [
    "import numpy as np\n",
    "import pandas as pd"
   ]
  },
  {
   "cell_type": "code",
   "execution_count": null,
   "metadata": {
    "scrolled": true
   },
   "outputs": [],
   "source": [
    "%ls data"
   ]
  },
  {
   "cell_type": "markdown",
   "metadata": {},
   "source": [
    "### Load and combine the data files of the same structure.\n",
    "\n",
    "I've commented all this code, but left it intact to show what was done to process the files in order to put them in better working condition."
   ]
  },
  {
   "cell_type": "code",
   "execution_count": null,
   "metadata": {},
   "outputs": [],
   "source": [
    "# transactions_2019 = pd.read_csv('data/20190101-20191231-transactions.csv')\n",
    "# transactions_2020 = pd.read_csv('data/20200101-20201205-transactions.csv')\n",
    "\n",
    "# transactions_items_2019 = pd.read_csv('data/20190101-20191231-transaction-items.csv')\n",
    "# transactions_items_2020 = pd.read_csv('data/20200101-20201205-transaction-items.csv')\n",
    "\n",
    "# transactions_tenders_2019 = pd.read_csv('data/20190101-20191231-transaction-tenders.csv')\n",
    "# transactions_tenders_2020 = pd.read_csv('data/20200101-20201205-transaction-tenders.csv')"
   ]
  },
  {
   "cell_type": "code",
   "execution_count": null,
   "metadata": {},
   "outputs": [],
   "source": [
    "### join the combined files on name\n",
    "# print(transactions_2019.shape)"
   ]
  },
  {
   "cell_type": "code",
   "execution_count": null,
   "metadata": {},
   "outputs": [],
   "source": [
    "# print(transactions_2020.shape)"
   ]
  },
  {
   "cell_type": "code",
   "execution_count": null,
   "metadata": {},
   "outputs": [],
   "source": [
    "# transactions_full = transactions_2019.append(transactions_2020)\n",
    "# transactions_items_full = transactions_items_2019.append(transactions_items_2020)\n",
    "# transactions_tenders_full = transactions_tenders_2019.append(transactions_tenders_2020)"
   ]
  },
  {
   "cell_type": "code",
   "execution_count": null,
   "metadata": {},
   "outputs": [],
   "source": [
    "# print(f\"transactions_full.shape {transactions_full.shape}\")\n",
    "# print(f\"transactions_items_full {transactions_items_full.shape}\")\n",
    "# print(f\"transactions_tenders_full {transactions_tenders_full.shape}\")"
   ]
  },
  {
   "cell_type": "code",
   "execution_count": null,
   "metadata": {},
   "outputs": [],
   "source": [
    "# transactions_full.to_csv(\"data/transactions_full.csv\")\n",
    "# transactions_items_full.to_csv(\"data/transactions_items_full.csv\")\n",
    "# transactions_tenders_full.to_csv(\"data/transactions_tenders_full.csv\")"
   ]
  },
  {
   "cell_type": "code",
   "execution_count": null,
   "metadata": {},
   "outputs": [],
   "source": [
    "# In transactions, the fields we need to worry about are:\n",
    "#     Cashier Name, Customer Name, Customer Email, Cardholder Name\n",
    "transactions_full.head(100)"
   ]
  },
  {
   "cell_type": "code",
   "execution_count": null,
   "metadata": {},
   "outputs": [],
   "source": [
    "## Create some lists of unique data that we want to replace\n",
    "\n",
    "# Some of these became unnecessary as I realized I didn't need those columns.\n",
    "# cashier_names = transactions_full[\"Cashier Name\"].drop_duplicates()\n",
    "# customer_names = transactions_full[\"Customer Name\"].drop_duplicates()\n",
    "# customer_emails = transactions_full[\"Customer Email\"].drop_duplicates()\n",
    "\n",
    "cardholder_names = transactions_full[\"Cardholder Name\"].drop_duplicates()\n",
    "print(cardholder_names)\n"
   ]
  },
  {
   "cell_type": "code",
   "execution_count": null,
   "metadata": {},
   "outputs": [],
   "source": [
    "## Here we are establishing that whenever there is NOT a Cardholder name, \n",
    "# there is not a customer name. In other words, customer name is a subset of carholder name\n",
    "test = transactions_full[transactions_full[\"Cardholder Name\"] == \"\"]\n",
    "customer_names = test[\"Customer Name\"].drop_duplicates()\n",
    "print(customer_names)"
   ]
  },
  {
   "cell_type": "code",
   "execution_count": null,
   "metadata": {
    "scrolled": true
   },
   "outputs": [],
   "source": [
    "# transactions_full = transactions_full.drop(\"Cashier Name\", axis = 1)"
   ]
  },
  {
   "cell_type": "code",
   "execution_count": null,
   "metadata": {},
   "outputs": [],
   "source": [
    "# transactions_full = transactions_full.drop(\"Customer Name\", axis = 1)\n",
    "# transactions_full = transactions_full.drop(\"Customer Email\", axis = 1)\n",
    "# transactions_full = transactions_full.drop(\"Last 4 Digits\", axis = 1)"
   ]
  },
  {
   "cell_type": "code",
   "execution_count": null,
   "metadata": {},
   "outputs": [],
   "source": [
    "transactions_full.head(4)"
   ]
  },
  {
   "cell_type": "markdown",
   "metadata": {},
   "source": [
    "### Cleaning transaction_items\n",
    "\n",
    "It looks like here we just needed to drop a few uneccessary columns"
   ]
  },
  {
   "cell_type": "code",
   "execution_count": null,
   "metadata": {},
   "outputs": [],
   "source": [
    "# transactions_items_full = transactions_items_full.drop(\"Cashier Name\", axis = 1)\n",
    "# transactions_items_full = transactions_items_full.drop(\"Category\", axis = 1)\n",
    "\n",
    "transactions_items_full.head(3)\n"
   ]
  },
  {
   "cell_type": "markdown",
   "metadata": {},
   "source": [
    "### Transaction Tenders\n",
    "\n",
    "Again, we don't need the Cashier Name, Customer Email, Last 4 Digits"
   ]
  },
  {
   "cell_type": "code",
   "execution_count": null,
   "metadata": {},
   "outputs": [],
   "source": [
    "# transactions_tenders_full = transactions_tenders_full.drop(\"Cashier Name\", axis = 1)\n",
    "# transactions_tenders_full = transactions_tenders_full.drop(\"Customer Email\", axis = 1)\n",
    "# transactions_tenders_full = transactions_tenders_full.drop(\"Last 4 Digits\", axis = 1)\n",
    "\n",
    "transactions_tenders_full.head(3)"
   ]
  },
  {
   "cell_type": "markdown",
   "metadata": {},
   "source": [
    "# Sanitizing PI\n",
    "\n",
    "At this point we have a list of customers in cardholder_names and we need to generate\n",
    "a key of fake names and substitute them into the dataframes before rewriting the csv"
   ]
  },
  {
   "cell_type": "code",
   "execution_count": null,
   "metadata": {},
   "outputs": [],
   "source": [
    "import names\n",
    "from faker import Faker\n",
    "\n",
    "fake = Faker()\n",
    "\n",
    "print(len(cardholder_names))"
   ]
  },
  {
   "cell_type": "code",
   "execution_count": null,
   "metadata": {},
   "outputs": [],
   "source": [
    "names = pd.DataFrame([], columns=['fakes'])\n",
    "\n",
    "while len(names.drop_duplicates()) < len(cardholder_names):\n",
    "    names = names.append({'fakes': fake.name()}, ignore_index=True)\n",
    "\n",
    "names = names.drop_duplicates()\n"
   ]
  },
  {
   "cell_type": "code",
   "execution_count": null,
   "metadata": {},
   "outputs": [],
   "source": [
    "names.shape"
   ]
  },
  {
   "cell_type": "code",
   "execution_count": null,
   "metadata": {},
   "outputs": [],
   "source": [
    "cardholder_names.shape"
   ]
  },
  {
   "cell_type": "code",
   "execution_count": null,
   "metadata": {
    "scrolled": true
   },
   "outputs": [],
   "source": [
    "frame = { 'customers': cardholder_names } \n",
    "  \n",
    "result = pd.DataFrame(frame) \n",
    "\n",
    "result.shape\n"
   ]
  },
  {
   "cell_type": "code",
   "execution_count": null,
   "metadata": {
    "scrolled": false
   },
   "outputs": [],
   "source": [
    "joined = pd.concat([names.reset_index(), cardholder_names.reset_index()], axis = 1)\n",
    "joined.head()"
   ]
  },
  {
   "cell_type": "code",
   "execution_count": null,
   "metadata": {},
   "outputs": [],
   "source": [
    "joined.shape"
   ]
  },
  {
   "cell_type": "code",
   "execution_count": null,
   "metadata": {},
   "outputs": [],
   "source": [
    "customer_key = joined.drop('index', axis = 1)\n",
    "# customer_key = customer_key.drop('index', axis = 1)"
   ]
  },
  {
   "cell_type": "code",
   "execution_count": null,
   "metadata": {},
   "outputs": [],
   "source": [
    "customer_key.head(10)"
   ]
  },
  {
   "cell_type": "code",
   "execution_count": null,
   "metadata": {},
   "outputs": [],
   "source": []
  },
  {
   "cell_type": "code",
   "execution_count": null,
   "metadata": {},
   "outputs": [],
   "source": [
    "pd = transactions_full.join(customer_key.set_index('Cardholder Name'), on= 'Cardholder Name')"
   ]
  },
  {
   "cell_type": "code",
   "execution_count": null,
   "metadata": {},
   "outputs": [],
   "source": [
    "# pd[pd['fakes'] == 'Denise Floyd'].head(20)"
   ]
  },
  {
   "cell_type": "code",
   "execution_count": null,
   "metadata": {},
   "outputs": [],
   "source": [
    "pd.head(1)"
   ]
  },
  {
   "cell_type": "code",
   "execution_count": null,
   "metadata": {},
   "outputs": [],
   "source": [
    "transactions_full_clean = pd.drop('Cardholder Name', axis = 1)"
   ]
  },
  {
   "cell_type": "code",
   "execution_count": null,
   "metadata": {},
   "outputs": [],
   "source": [
    "transactions_full_clean['Cardholder Name'] = transactions_full_clean['fakes']"
   ]
  },
  {
   "cell_type": "code",
   "execution_count": null,
   "metadata": {},
   "outputs": [],
   "source": [
    "transactions_full_clean = transactions_full_clean.drop('fakes', axis = 1)"
   ]
  },
  {
   "cell_type": "code",
   "execution_count": null,
   "metadata": {},
   "outputs": [],
   "source": [
    "transactions_full_clean.to_csv(\"data/transactions_full_clean.csv\")"
   ]
  },
  {
   "cell_type": "code",
   "execution_count": null,
   "metadata": {},
   "outputs": [],
   "source": [
    "transactions_full_clean.head(3)"
   ]
  },
  {
   "cell_type": "markdown",
   "metadata": {},
   "source": [
    "## Now we need to do the same thing with Transactions Tenders"
   ]
  },
  {
   "cell_type": "code",
   "execution_count": null,
   "metadata": {},
   "outputs": [],
   "source": [
    "pd = transactions_tenders_full.join(customer_key.set_index('Cardholder Name'), on= 'Cardholder Name')"
   ]
  },
  {
   "cell_type": "code",
   "execution_count": null,
   "metadata": {},
   "outputs": [],
   "source": [
    "transactions_tenders_full_clean = pd.drop('Cardholder Name', axis = 1)\n",
    "transactions_tenders_full_clean['Cardholder Name'] = transactions_tenders_full_clean['fakes']\n",
    "transactions_tenders_full_clean = transactions_tenders_full_clean.drop('fakes', axis = 1)\n",
    "transactions_tenders_full_clean.head(3)"
   ]
  },
  {
   "cell_type": "code",
   "execution_count": null,
   "metadata": {},
   "outputs": [],
   "source": [
    "transactions_tenders_full_clean.to_csv(\"data/transactions_tenders_full_clean.csv\")"
   ]
  },
  {
   "cell_type": "code",
   "execution_count": null,
   "metadata": {},
   "outputs": [],
   "source": [
    "customer_key.to_csv('data/customer_key.csv')"
   ]
  },
  {
   "cell_type": "markdown",
   "metadata": {},
   "source": [
    "## Finally, Transaction Items"
   ]
  },
  {
   "cell_type": "code",
   "execution_count": null,
   "metadata": {},
   "outputs": [],
   "source": [
    "transactions_items_full.head(3)\n"
   ]
  },
  {
   "cell_type": "code",
   "execution_count": null,
   "metadata": {},
   "outputs": [],
   "source": [
    "transactions_items_full.to_csv(\"data/transactions_items_full_clean.csv\")"
   ]
  },
  {
   "cell_type": "code",
   "execution_count": null,
   "metadata": {},
   "outputs": [],
   "source": []
  }
 ],
 "metadata": {
  "kernelspec": {
   "display_name": "Python 3",
   "language": "python",
   "name": "python3"
  },
  "language_info": {
   "codemirror_mode": {
    "name": "ipython",
    "version": 3
   },
   "file_extension": ".py",
   "mimetype": "text/x-python",
   "name": "python",
   "nbconvert_exporter": "python",
   "pygments_lexer": "ipython3",
   "version": "3.8.5"
  }
 },
 "nbformat": 4,
 "nbformat_minor": 4
}
