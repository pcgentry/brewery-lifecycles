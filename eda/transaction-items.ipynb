{
 "cells": [
  {
   "cell_type": "markdown",
   "metadata": {},
   "source": [
    "I want to take a look at the three transactions data sets and see what the difference is between them."
   ]
  },
  {
   "cell_type": "code",
   "execution_count": 2,
   "metadata": {},
   "outputs": [],
   "source": [
    "import numpy as np\n",
    "import pandas as pd\n",
    "import matplotlib.pyplot as plt\n",
    "import scipy as sp\n",
    "from scipy import stats\n",
    "import seaborn as sns\n",
    "\n",
    "\n",
    "%matplotlib inline\n",
    "plt.style.use('seaborn-dark')"
   ]
  },
  {
   "cell_type": "code",
   "execution_count": 3,
   "metadata": {},
   "outputs": [
    {
     "name": "stdout",
     "output_type": "stream",
     "text": [
      "ls: data: No such file or directory\r\n"
     ]
    }
   ],
   "source": [
    "%ls data | grep transaction"
   ]
  },
  {
   "cell_type": "code",
   "execution_count": 7,
   "metadata": {},
   "outputs": [
    {
     "name": "stdout",
     "output_type": "stream",
     "text": [
      "(26748, 21)\n"
     ]
    },
    {
     "data": {
      "text/html": [
       "<div>\n",
       "<style scoped>\n",
       "    .dataframe tbody tr th:only-of-type {\n",
       "        vertical-align: middle;\n",
       "    }\n",
       "\n",
       "    .dataframe tbody tr th {\n",
       "        vertical-align: top;\n",
       "    }\n",
       "\n",
       "    .dataframe thead th {\n",
       "        text-align: right;\n",
       "    }\n",
       "</style>\n",
       "<table border=\"1\" class=\"dataframe\">\n",
       "  <thead>\n",
       "    <tr style=\"text-align: right;\">\n",
       "      <th></th>\n",
       "      <th>Unnamed: 0</th>\n",
       "      <th>Time</th>\n",
       "      <th>Register Name/Number</th>\n",
       "      <th>Operation Type</th>\n",
       "      <th>Store Code</th>\n",
       "      <th>UPC</th>\n",
       "      <th>Line Item</th>\n",
       "      <th>Department</th>\n",
       "      <th>Supplier</th>\n",
       "      <th>Supplier Code</th>\n",
       "      <th>...</th>\n",
       "      <th>Price</th>\n",
       "      <th>Quantity</th>\n",
       "      <th>Modifiers</th>\n",
       "      <th>Subtotal</th>\n",
       "      <th>Discounts</th>\n",
       "      <th>Net Total</th>\n",
       "      <th>Tax</th>\n",
       "      <th>Total Due</th>\n",
       "      <th>Transaction ID</th>\n",
       "      <th>Customer ID</th>\n",
       "    </tr>\n",
       "  </thead>\n",
       "  <tbody>\n",
       "    <tr>\n",
       "      <th>0</th>\n",
       "      <td>0</td>\n",
       "      <td>2020-01-01 02:04:00</td>\n",
       "      <td>Register 1</td>\n",
       "      <td>SALE</td>\n",
       "      <td>*400000000015</td>\n",
       "      <td>*</td>\n",
       "      <td>Misc Taxable</td>\n",
       "      <td>general</td>\n",
       "      <td>not tracked</td>\n",
       "      <td>NaN</td>\n",
       "      <td>...</td>\n",
       "      <td>33.0</td>\n",
       "      <td>1.0</td>\n",
       "      <td>0.0</td>\n",
       "      <td>33.0</td>\n",
       "      <td>0.0</td>\n",
       "      <td>33.0</td>\n",
       "      <td>0.0</td>\n",
       "      <td>33.0</td>\n",
       "      <td>B5B298C8-88CD-451D-8ED2-AD3DC5386B9B</td>\n",
       "      <td>48373875</td>\n",
       "    </tr>\n",
       "    <tr>\n",
       "      <th>1</th>\n",
       "      <td>1</td>\n",
       "      <td>2020-01-01 01:51:00</td>\n",
       "      <td>Register 1</td>\n",
       "      <td>SALE</td>\n",
       "      <td>*400000000060</td>\n",
       "      <td>*</td>\n",
       "      <td>Landlocked IPA</td>\n",
       "      <td>beers</td>\n",
       "      <td>not tracked</td>\n",
       "      <td>NaN</td>\n",
       "      <td>...</td>\n",
       "      <td>5.0</td>\n",
       "      <td>4.0</td>\n",
       "      <td>0.0</td>\n",
       "      <td>20.0</td>\n",
       "      <td>0.0</td>\n",
       "      <td>20.0</td>\n",
       "      <td>0.0</td>\n",
       "      <td>20.0</td>\n",
       "      <td>0FF4F15F-89FB-4F93-B4E5-04EB5B61BDC2</td>\n",
       "      <td>13685111</td>\n",
       "    </tr>\n",
       "    <tr>\n",
       "      <th>2</th>\n",
       "      <td>2</td>\n",
       "      <td>2020-01-01 01:49:00</td>\n",
       "      <td>Register 1</td>\n",
       "      <td>SALE</td>\n",
       "      <td>*400000000060</td>\n",
       "      <td>*</td>\n",
       "      <td>Landlocked IPA</td>\n",
       "      <td>beers</td>\n",
       "      <td>not tracked</td>\n",
       "      <td>NaN</td>\n",
       "      <td>...</td>\n",
       "      <td>5.0</td>\n",
       "      <td>1.0</td>\n",
       "      <td>-2.5</td>\n",
       "      <td>2.5</td>\n",
       "      <td>2.5</td>\n",
       "      <td>0.0</td>\n",
       "      <td>0.0</td>\n",
       "      <td>0.0</td>\n",
       "      <td>C6BADA76-ED6A-4551-BDAA-292CF65F0939</td>\n",
       "      <td>13685111</td>\n",
       "    </tr>\n",
       "  </tbody>\n",
       "</table>\n",
       "<p>3 rows × 21 columns</p>\n",
       "</div>"
      ],
      "text/plain": [
       "   Unnamed: 0                Time Register Name/Number Operation Type  \\\n",
       "0           0 2020-01-01 02:04:00           Register 1           SALE   \n",
       "1           1 2020-01-01 01:51:00           Register 1           SALE   \n",
       "2           2 2020-01-01 01:49:00           Register 1           SALE   \n",
       "\n",
       "      Store Code UPC       Line Item Department     Supplier Supplier Code  \\\n",
       "0  *400000000015   *    Misc Taxable    general  not tracked           NaN   \n",
       "1  *400000000060   *  Landlocked IPA      beers  not tracked           NaN   \n",
       "2  *400000000060   *  Landlocked IPA      beers  not tracked           NaN   \n",
       "\n",
       "   ...  Price  Quantity  Modifiers  Subtotal  Discounts  Net Total  Tax  \\\n",
       "0  ...   33.0       1.0        0.0      33.0        0.0       33.0  0.0   \n",
       "1  ...    5.0       4.0        0.0      20.0        0.0       20.0  0.0   \n",
       "2  ...    5.0       1.0       -2.5       2.5        2.5        0.0  0.0   \n",
       "\n",
       "   Total Due                        Transaction ID Customer ID  \n",
       "0       33.0  B5B298C8-88CD-451D-8ED2-AD3DC5386B9B    48373875  \n",
       "1       20.0  0FF4F15F-89FB-4F93-B4E5-04EB5B61BDC2    13685111  \n",
       "2        0.0  C6BADA76-ED6A-4551-BDAA-292CF65F0939    13685111  \n",
       "\n",
       "[3 rows x 21 columns]"
      ]
     },
     "execution_count": 7,
     "metadata": {},
     "output_type": "execute_result"
    }
   ],
   "source": [
    "transactions = pd.read_csv(\n",
    "    '../data/transaction_items_full_clean.csv', \n",
    "    delimiter=\",\"\n",
    ")\n",
    "transactions[\"Time\"] = pd.to_datetime(transactions[\"Time\"])\n",
    "print(transactions.shape)\n",
    "transactions.head(3)"
   ]
  },
  {
   "cell_type": "code",
   "execution_count": 8,
   "metadata": {},
   "outputs": [
    {
     "data": {
      "text/plain": [
       "[]"
      ]
     },
     "execution_count": 8,
     "metadata": {},
     "output_type": "execute_result"
    },
    {
     "data": {
      "image/png": "[encoded data removed]",
      "text/plain": [
       "<Figure size 1440x288 with 1 Axes>"
      ]
     },
     "metadata": {},
     "output_type": "display_data"
    }
   ],
   "source": [
    "fig, ax = plt.subplots(1,1, figsize=(20,4))\n",
    "\n",
    "# ax.plot(transactions[\"Time\"], transactions[\"Price\"], label=\"Prices\",  linewidth=3, alpha=.7)\n",
    "# ax.plot(transactions[\"Time\"], transactions[\"Discounts\"], label=\"Discounts\", linewidth=3, alpha=.7)\n",
    "ax.plot(transactions[\"Time\"], transactions[\"Quantity\"], label=\"Quantity\", linewidth=3, alpha=.7)\n",
    "\n",
    "ax.grid(False)\n",
    "ax.set_title(\"A night of brewery transactions\")\n",
    "ax.legend()\n",
    "ax.set_xlabel(\"Time of Transaction\")\n",
    "ax.set_ylim(0,12)\n",
    "ax.plot()"
   ]
  },
  {
   "cell_type": "code",
   "execution_count": null,
   "metadata": {},
   "outputs": [],
   "source": [
    "fig, ax = plt.subplots(1,1, figsize=(20,6))\n",
    "\n",
    "for item in transactions[\"Line Item\"].unique():\n",
    "    this_item = transactions[transactions[\"Line Item\"]==item]\n",
    "    ax.bar(this_item[\"Time\"], this_item[\"Quantity\"], label=item, linewidth=1, alpha=.3, width=1)    \n",
    "    \n",
    "ax.grid(False)\n",
    "ax.set_title(\"A night of brewery item sales\")\n",
    "# Too many items for a legend\n",
    "# ax.legend()\n",
    "ax.set_ylim(0,10)\n",
    "ax.set_xlabel(\"Time of Transaction\")\n",
    "ax.plot()"
   ]
  },
  {
   "cell_type": "code",
   "execution_count": null,
   "metadata": {},
   "outputs": [],
   "source": [
    "fig, ax = plt.subplots(1,1, figsize=(20,6))\n",
    "\n",
    "for item in transactions[\"Department\"].unique():\n",
    "    this_item = transactions[transactions[\"Department\"]==item]\n",
    "    ax.bar(this_item[\"Time\"], this_item[\"Quantity\"], label=item, linewidth=1, alpha=.9, width=.3)    \n",
    "    \n",
    "ax.grid(False)\n",
    "ax.set_title(\"A night of brewery item sales\")\n",
    "ax.legend()\n",
    "ax.set_ylim(0,10)\n",
    "ax.set_xlabel(\"Time of Transaction\")\n",
    "ax.plot()"
   ]
  },
  {
   "cell_type": "code",
   "execution_count": null,
   "metadata": {},
   "outputs": [],
   "source": [
    "transactions.groupby(\"Department\").sum()"
   ]
  },
  {
   "cell_type": "code",
   "execution_count": null,
   "metadata": {},
   "outputs": [],
   "source": [
    "transactions.groupby(\"Line Item\").sum()"
   ]
  },
  {
   "cell_type": "code",
   "execution_count": null,
   "metadata": {},
   "outputs": [],
   "source": []
  }
 ],
 "metadata": {
  "kernelspec": {
   "display_name": "Python 3",
   "language": "python",
   "name": "python3"
  },
  "language_info": {
   "codemirror_mode": {
    "name": "ipython",
    "version": 3
   },
   "file_extension": ".py",
   "mimetype": "text/x-python",
   "name": "python",
   "nbconvert_exporter": "python",
   "pygments_lexer": "ipython3",
   "version": "3.8.5"
  }
 },
 "nbformat": 4,
 "nbformat_minor": 4
}
